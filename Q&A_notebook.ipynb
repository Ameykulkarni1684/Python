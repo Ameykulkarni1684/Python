{
  "metadata": {
    "kernelspec": {
      "name": "python",
      "display_name": "Python (Pyodide)",
      "language": "python"
    },
    "language_info": {
      "codemirror_mode": {
        "name": "python",
        "version": 3
      },
      "file_extension": ".py",
      "mimetype": "text/x-python",
      "name": "python",
      "nbconvert_exporter": "python",
      "pygments_lexer": "ipython3",
      "version": "3.8"
    }
  },
  "nbformat_minor": 5,
  "nbformat": 4,
  "cells": [
    {
      "id": "e7fa0eeb-a34d-4cc0-9693-1a349ace0777",
      "cell_type": "code",
      "source": "#Script with a function to add two numbers and return the result. Use the function and show the input values and the result \n#Function to add two numbers\ndef add_number (num1,num2):\n    sum_result = num1 + num2\n    return sum_result\n    #input from user\nnumber1 = float(input(\"Enter first number :\"))\nnumber2 = float(input (\"Enter Second number :\"))\n    #call the add_number Function \nresult = add_number(number1,number2)\nprint(f\"The Sum of the number {number1} and {number2}is:{result}\")",
      "metadata": {
        "trusted": true
      },
      "outputs": [
        {
          "output_type": "stream",
          "name": "stdin",
          "text": "Enter first number : 1\nEnter Second number : 2\n"
        },
        {
          "name": "stdout",
          "output_type": "stream",
          "text": "The Sum of the number 1.0 and 2.0is:3.0\n"
        }
      ],
      "execution_count": 36
    },
    {
      "id": "b443c9e0-2eaa-45a3-a854-55ee214b74a1",
      "cell_type": "code",
      "source": "#Use the string “The quick brown fox jumps over the lazy dog” and print all but the last two characters.\nA = 'The quick brown fox jumps over the lazy dog'\nprint (A[0:41])",
      "metadata": {
        "trusted": true
      },
      "outputs": [
        {
          "name": "stdout",
          "output_type": "stream",
          "text": "The quick brown fox jumps over the lazy d\n"
        }
      ],
      "execution_count": 38
    },
    {
      "id": "6e86f349-7e9e-41ee-8a45-a6026f5b09fc",
      "cell_type": "code",
      "source": "#Print the string but all character in upper case\nA = 'The quick brown fox jumps over the lazy dog'\nprint (A.upper())",
      "metadata": {
        "trusted": true
      },
      "outputs": [
        {
          "name": "stdout",
          "output_type": "stream",
          "text": "THE QUICK BROWN FOX JUMPS OVER THE LAZY DOG\n"
        }
      ],
      "execution_count": 40
    },
    {
      "id": "8fd50229-8519-4996-957c-3ca2404f66e0",
      "cell_type": "code",
      "source": "#Convert the string into a list of all words\ndef string_to_word_list(input_string):\n    word_list = input_string.split()\n    return word_list\ninput_string = \"Convert the string into a list of all words\"\nword_list = string_to_word_list(input_string)\nprint(word_list)\n\n",
      "metadata": {
        "trusted": true
      },
      "outputs": [
        {
          "name": "stdout",
          "output_type": "stream",
          "text": "['Convert', 'the', 'string', 'into', 'a', 'list', 'of', 'all', 'words']\n"
        }
      ],
      "execution_count": 43
    },
    {
      "id": "4c060267-fa53-413d-8669-f3fdc50d7e42",
      "cell_type": "code",
      "source": "#Print the entire list of words, then iterate over element of the list and print the elements (words) individually.\n\ndef string_to_word_list(input_string):\n    # Split the string into words using whitespace as the delimiter\n    word_list = input_string.split()\n    return word_list\n# Example usage\ninput_string = \"Convert the string into a list of all words\"\nword_list = string_to_word_list(input_string)\n# Print the entire list of words\nprint(\"List of words:\", word_list)\n# Iterate over each element of the list and print the elements (words) individually\nprint(\"Individual words:\")\nfor word in word_list:\n    print(word)\n",
      "metadata": {
        "trusted": true
      },
      "outputs": [
        {
          "name": "stdout",
          "output_type": "stream",
          "text": "List of words: ['Convert', 'the', 'string', 'into', 'a', 'list', 'of', 'all', 'words']\nIndividual words:\nConvert\nthe\nstring\ninto\na\nlist\nof\nall\nwords\n"
        }
      ],
      "execution_count": 44
    },
    {
      "id": "6da6114a-b0c8-4e28-a28d-1354654f8373",
      "cell_type": "code",
      "source": "#Print how many characters are in a string\ndef count_characters(input_string):\n    # Count the number of characters in the string\n    num_characters = len(input_string)\n    return num_characters\n# Example usage\ninput_string = \"Convert the string into a list of all words\"\nnum_characters = count_characters(input_string)\nprint(f\"The number of characters in the string is: {num_characters}\")\n",
      "metadata": {
        "trusted": true
      },
      "outputs": [
        {
          "name": "stdout",
          "output_type": "stream",
          "text": "The number of characters in the string is: 43\n"
        }
      ],
      "execution_count": 45
    },
    {
      "id": "f02f17b3-22ed-469d-9b53-50af2a8a8121",
      "cell_type": "code",
      "source": "#Print how many items are in a list\n\ndef count_items_in_list(input_list):\n    # Count the number of items in the list\n    num_items = len(input_list)\n    return num_items\n# Example usage\ninput_list = ['Convert', 'the', 'string', 'into', 'a', 'list', 'of', 'all', 'words']\nnum_items = count_items_in_list(input_list)\nprint(f\"The number of items in the list is: {num_items}\")",
      "metadata": {
        "trusted": true
      },
      "outputs": [
        {
          "name": "stdout",
          "output_type": "stream",
          "text": "The number of items in the list is: 9\n"
        }
      ],
      "execution_count": 46
    },
    {
      "id": "cb3bf0c8-9e74-4bb4-a818-1cadf65cce96",
      "cell_type": "code",
      "source": "#Print every second item in the list of words\n\ndef print_every_second_item(word_list):\n    # Iterate over the list and print every second item\n    for i in range(1, len(word_list), 2):\n        print(word_list[i])\n# Example usage\ninput_list = ['Convert', 'the', 'string', 'into', 'a', 'list', 'of', 'all', 'words']\nprint(\"Every second item in the list:\")\nprint_every_second_item(input_list)",
      "metadata": {
        "trusted": true
      },
      "outputs": [
        {
          "name": "stdout",
          "output_type": "stream",
          "text": "Every second item in the list:\nthe\ninto\nlist\nall\n"
        }
      ],
      "execution_count": 47
    },
    {
      "id": "f51c1896-b56f-45ae-9d76-01f3807729fd",
      "cell_type": "code",
      "source": "#Print all words of the list which are three characters long\ndef print_three_char_words(word_list):\n    # Iterate over the list and print words that are three characters long\n    for word in word_list:\n        if len(word) == 3:\n            print(word)\n# Example usage\ninput_list = ['Convert', 'the', 'string', 'into', 'a', 'list', 'of', 'all', 'words']\nprint(\"Words that are three characters long:\")\nprint_three_char_words(input_list)\n",
      "metadata": {
        "trusted": true
      },
      "outputs": [
        {
          "name": "stdout",
          "output_type": "stream",
          "text": "Words that are three characters long:\nthe\nall\n"
        }
      ],
      "execution_count": 48
    },
    {
      "id": "8aef1244-6eba-4325-9b11-1cd03e7a806b",
      "cell_type": "code",
      "source": "#Print all words that contain the character “o”\n\ndef print_words_with_o(word_list):\n    # Iterate over the list and print words that contain the character 'o'\n    for word in word_list:\n        if 'o' in word:\n            print(word)\n# Example usage\ninput_list = ['Convert', 'the', 'string', 'into', 'a', 'list', 'of', 'all', 'words']\nprint(\"Words that contain the character 'o':\")\nprint_words_with_o(input_list)",
      "metadata": {
        "trusted": true
      },
      "outputs": [
        {
          "name": "stdout",
          "output_type": "stream",
          "text": "Words that contain the character 'o':\nConvert\ninto\nof\nwords\n"
        }
      ],
      "execution_count": 49
    },
    {
      "id": "ca0d07cd-f828-457d-a286-ecb4af1702d9",
      "cell_type": "code",
      "source": "#A function that takes a string as a parameter and prints a timestamp in format YYYY-mm-dd HH:MM:SS followed by the given string\n\nfrom datetime import datetime\ndef print_timestamped_string(input_string):\n    # Get the current timestamp\n    current_timestamp = datetime.now().strftime(\"%Y-%m-%d %H:%M:%S\")\n    # Print the timestamp followed by the input string\n    print(f\"{current_timestamp} {input_string}\")\n# Example usage\ninput_string = \"This is a sample string.\"\nprint_timestamped_string(input_string)",
      "metadata": {
        "trusted": true
      },
      "outputs": [
        {
          "name": "stdout",
          "output_type": "stream",
          "text": "2025-06-06 18:40:51 This is a sample string.\n"
        }
      ],
      "execution_count": 50
    },
    {
      "id": "a9ba5f80-0f69-4b54-ba9e-2a038e89d632",
      "cell_type": "code",
      "source": "#Script to write strings into a file\n\ndef write_strings_to_file(file_name, strings):\n    with open(file_name, 'w') as f:\n        for string in strings:\n            f.write(string + '\\n')\n# Example usage\nfile_name = 'output.txt'\nstrings = [\"Hello, world!\", \"This is a sample string.\", \"Writing strings to a file.\"]\nwrite_strings_to_file(file_name, strings)\nprint(f\"Strings have been written to {file_name}.\")",
      "metadata": {
        "trusted": true
      },
      "outputs": [
        {
          "name": "stdout",
          "output_type": "stream",
          "text": "Strings have been written to output.txt.\n"
        }
      ],
      "execution_count": 53
    },
    {
      "id": "c9b4b968-0cfb-4ae0-9c4c-4077a6b77cb2",
      "cell_type": "code",
      "source": "#Extend your function to print multi line strings with a leading timestamp and on each call of this function write and append the new lines into a file\n\nfrom datetime import datetime\ndef write_strings_to_file(file_name, strings):\n    with open(file_name, 'a') as f:\n        for string in strings:\n            # Get the current timestamp\n            current_timestamp = datetime.now().strftime(\"%Y-%m-%d %H:%M:%S\")\n            # Create the timestamped string\n            timestamped_string = f\"{current_timestamp} {string}\"\n            # Print the timestamped string\n            print(timestamped_string)\n            # Write the timestamped string to the file\n            f.write(timestamped_string + '\\n')\n# Example usage\nfile_name = 'output.txt'\nstrings = [\"Hello, world!\", \"This is a sample string.\", \"Writing strings to a file.\"]\nwrite_strings_to_file(file_name, strings)\nprint(f\"Strings have been written to {file_name}.\")",
      "metadata": {
        "trusted": true
      },
      "outputs": [
        {
          "name": "stdout",
          "output_type": "stream",
          "text": "2025-06-06 18:45:21 Hello, world!\n2025-06-06 18:45:21 This is a sample string.\n2025-06-06 18:45:21 Writing strings to a file.\nStrings have been written to output.txt.\n"
        }
      ],
      "execution_count": 54
    },
    {
      "id": "7626025e-40eb-4ef4-9d7e-65cba2cca68f",
      "cell_type": "code",
      "source": "#A script that takes two arguments, checks if they are numbers and use the function to add two numbers and print the result\n\nimport sys\ndef add_numbers(a, b):\n    return a + b\ndef main():\n    if len(sys.argv) != 3:\n        print(\"Usage: python script.py  \")\n        return\n    try:\n        num1 = float(sys.argv[1])\n        num2 = float(sys.argv[2])\n    except ValueError:\n        print(\"Both arguments must be numbers.\")\n        return\n    result = add_numbers(num1, num2)\n    print(f\"The sum of {num1} and {num2} is {result}\")\nif __name__ == \"__main__\":\n    main()",
      "metadata": {
        "trusted": true
      },
      "outputs": [
        {
          "name": "stdout",
          "output_type": "stream",
          "text": "Usage: python script.py  \n"
        }
      ],
      "execution_count": 55
    },
    {
      "id": "a0137457-339a-4530-8734-39df73f9f18e",
      "cell_type": "code",
      "source": "#Extend the script to check for the number of arguments given and print according messages when there are more or less arguments given\n\nimport sys\ndef add_numbers(a, b):\n    return a + b\ndef main():\n    if len(sys.argv) < 3:\n        print(\"Too few arguments. Usage: python script.py  \")\n        return\n    elif len(sys.argv) > 3:\n        print(\"Too many arguments. Usage: python script.py  \")\n        return\n    try:\n        num1 = float(sys.argv[1])\n        num2 = float(sys.argv[2])\n    except ValueError:\n        print(\"Both arguments must be numbers.\")\n        return\n    result = add_numbers(num1, num2)\n    print(f\"The sum of {num1} and {num2} is {result}\")\nif __name__ == \"__main__\":\n    main()",
      "metadata": {
        "trusted": true
      },
      "outputs": [
        {
          "name": "stdout",
          "output_type": "stream",
          "text": "Too few arguments. Usage: python script.py  \n"
        }
      ],
      "execution_count": 56
    },
    {
      "id": "b234a896-3980-4d27-b52d-4aeba54b2bb1",
      "cell_type": "code",
      "source": " A script to print the string  “Running” every second, and the string “Minute” on each new minute, and end at the next 5 minute cycle. (i.e. start at 07:21, end at 07:25)\n\n\nimport time\nfrom datetime import datetime, timedelta\ndef next_5_minute_mark(now):\n    # Calculate how many minutes to add to reach the next multiple of 5\n    minutes_to_add = 5 - (now.minute % 5)\n    return (now + timedelta(minutes=minutes_to_add)).replace(second=0, microsecond=0)\ndef main():\n    start_time = datetime.now()\n    end_time = next_5_minute_mark(start_time)\n    last_minute = start_time.minute\n    print(f\"Script started at {start_time.strftime('%H:%M:%S')}, will end at {end_time.strftime('%H:%M:%S')}\")\n    while datetime.now() < end_time:\n        now = datetime.now()\n        if now.minute != last_minute:\n            print(\"Minute\")\n            last_minute = now.minute\n        print(\"Running\")\n        time.sleep(1)\n    print(\"Finished at 5-minute mark.\")\nif __name__ == \"__main__\":\n    main()",
      "metadata": {
        "trusted": true
      },
      "outputs": [
        {
          "name": "stdout",
          "output_type": "stream",
          "text": "Script started at 18:47:25, will end at 18:50:00\nRunning\nRunning\nRunning\nRunning\nRunning\nRunning\nRunning\nRunning\nRunning\nRunning\nRunning\nRunning\nRunning\nRunning\nRunning\nRunning\nRunning\nRunning\nRunning\nRunning\nRunning\nRunning\nRunning\nRunning\nRunning\nRunning\nRunning\nRunning\nRunning\nRunning\nRunning\nRunning\nRunning\nRunning\nRunning\nMinute\nRunning\nRunning\nRunning\nRunning\nRunning\nRunning\nRunning\nRunning\nRunning\nRunning\nRunning\nRunning\nRunning\nRunning\nRunning\nRunning\nRunning\nRunning\nRunning\nRunning\nRunning\n"
        }
      ],
      "execution_count": null
    }
  ]
}